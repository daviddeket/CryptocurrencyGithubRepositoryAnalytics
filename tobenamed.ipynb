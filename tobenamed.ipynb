{
 "cells": [
  {
   "cell_type": "code",
   "execution_count": 2,
   "metadata": {},
   "outputs": [],
   "source": [
    "ethereum_ecosystem_url = \"https://raw.githubusercontent.com/electric-capital/crypto-ecosystems/master/data/ecosystems/e/ethereum.toml\""
   ]
  },
  {
   "cell_type": "code",
   "execution_count": 9,
   "metadata": {},
   "outputs": [],
   "source": [
    "import toml\n",
    "import requests\n",
    "\n",
    "class Ecosystem:\n",
    "    def __init__(self, ecosystem_url):\n",
    "        r = requests.get(ecosystem_url)\n",
    "        ethereum_ecosystem_dict = toml.loads(r.text)\n",
    "        self.title = ethereum_ecosystem_dict[\"title\"]\n",
    "        self.sub_ecosystems = ethereum_ecosystem_dict[\"sub_ecosystems\"]\n",
    "        self.github_organizations = ethereum_ecosystem_dict[\"github_organizations\"]\n",
    "        self.repos = ethereum_ecosystem_dict[\"repo\"]\n"
   ]
  },
  {
   "cell_type": "code",
   "execution_count": 17,
   "metadata": {},
   "outputs": [
    {
     "name": "stdout",
     "output_type": "stream",
     "text": [
      "['https://github.com/crytic', 'https://github.com/dapphub', 'https://github.com/ethereum', 'https://github.com/ethereum-ts', 'https://github.com/ethereum934', 'https://github.com/ethers-io', 'https://github.com/ethersphere', 'https://github.com/ewasm', 'https://github.com/flashbots', 'https://github.com/fortmatic', 'https://github.com/multi-geth', 'https://github.com/NethermindEth', 'https://github.com/NutBerry', 'https://github.com/PegaSysEng', 'https://github.com/pipeos-one', 'https://github.com/prysmaticlabs', 'https://github.com/rainbow-me', 'https://github.com/randao', 'https://github.com/sigp', 'https://github.com/tasitlabs', 'https://github.com/umbracle', 'https://github.com/web3j', 'https://github.com/yeeth', 'https://github.com/zkopru-network']\n"
     ]
    }
   ],
   "source": [
    "e = Ecosystem(ethereum_ecosystem_url)\n",
    "print(e.github_organizations)"
   ]
  },
  {
   "cell_type": "code",
   "execution_count": 28,
   "metadata": {},
   "outputs": [
    {
     "name": "stdout",
     "output_type": "stream",
     "text": [
      "crytic/awesome-ethereum-security\n"
     ]
    }
   ],
   "source": [
    "import json\n",
    "\n",
    "# get organization repos and their owner\n",
    "owner = e.github_organizations[0].replace(\"https://github.com/\", \"\")\n",
    "organization_url = f\"https://api.github.com/users/{owner}/repos\"\n",
    "r = requests.get(organization_url)\n",
    "organization_repos = json.loads(r.text)#[1][\"full_name\"]\n",
    "\n",
    "\n",
    "# get contributors per organization\n",
    "contributors_url = f\"https://api.github.com/repos/{owner}/{repo}/contributors\"\n",
    "#r = requests.get(contributors_url)\n",
    "\n",
    "# get commit history per developer in this organization\n",
    "\n",
    "commit_history_per_developer_url = f\"https://api.github.com/repos/{owner}/{repo}/stats/contributors\"\n",
    "#r = requests.get(commit_history_per_developer_url)\n",
    "\n",
    "\n",
    "# get commit history per organization\n",
    "\n",
    "\n",
    "# get total commits per organization\n",
    "\n",
    "\n",
    "# get total commits over all organization\n",
    "\n"
   ]
  },
  {
   "cell_type": "code",
   "execution_count": null,
   "metadata": {},
   "outputs": [],
   "source": []
  }
 ],
 "metadata": {
  "kernelspec": {
   "display_name": "Python 3",
   "language": "python",
   "name": "python3"
  },
  "language_info": {
   "codemirror_mode": {
    "name": "ipython",
    "version": 3
   },
   "file_extension": ".py",
   "mimetype": "text/x-python",
   "name": "python",
   "nbconvert_exporter": "python",
   "pygments_lexer": "ipython3",
   "version": "3.8.10"
  }
 },
 "nbformat": 4,
 "nbformat_minor": 4
}
